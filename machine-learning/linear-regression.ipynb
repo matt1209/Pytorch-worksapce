{
 "cells": [
  {
   "cell_type": "code",
   "execution_count": 1,
   "metadata": {},
   "outputs": [
    {
     "data": {
      "text/plain": [
       "'1.10.0+cpu'"
      ]
     },
     "execution_count": 1,
     "metadata": {},
     "output_type": "execute_result"
    }
   ],
   "source": [
    "%matplotlib inline\n",
    "import random\n",
    "import torch \n",
    "import matplotlib.pyplot as plt\n",
    "torch.__version__"
   ]
  },
  {
   "cell_type": "code",
   "execution_count": 2,
   "metadata": {},
   "outputs": [
    {
     "data": {
      "text/plain": [
       "'1.21.3'"
      ]
     },
     "execution_count": 2,
     "metadata": {},
     "output_type": "execute_result"
    }
   ],
   "source": [
    "import os\n",
    "os.environ[\"KMP_DUPLICATE_LIB_OK\"]=\"TRUE\"\n",
    "import numpy\n",
    "numpy.__version__"
   ]
  },
  {
   "cell_type": "code",
   "execution_count": 3,
   "metadata": {},
   "outputs": [],
   "source": [
    "def synthetic_data(w, b, num_samples):\n",
    "    x = torch.normal(0,1,(num_samples, len(w)))\n",
    "    y = torch.matmul(x,w) + b\n",
    "    y_noise = torch.normal(0,0.01, y.shape)\n",
    "    y += y_noise\n",
    "    return x, y.reshape((-1,1))\n",
    "\n",
    "true_w = torch.tensor([2, -3.4])\n",
    "true_b = 4.2\n",
    "features, labels = synthetic_data(true_w, true_b, 1000)"
   ]
  },
  {
   "cell_type": "code",
   "execution_count": 4,
   "metadata": {},
   "outputs": [
    {
     "data": {
      "text/plain": [
       "(torch.Size([1000, 2]),\n",
       " torch.Size([1000, 1]),\n",
       " tensor([-0.3521,  0.9797]),\n",
       " tensor([0.1439]))"
      ]
     },
     "execution_count": 4,
     "metadata": {},
     "output_type": "execute_result"
    }
   ],
   "source": [
    "features.shape, labels.shape, features[0], labels[0]"
   ]
  },
  {
   "cell_type": "code",
   "execution_count": 5,
   "metadata": {},
   "outputs": [
    {
     "data": {
      "image/png": "[encoded data removed]",
      "text/plain": [
       "<Figure size 252x180 with 1 Axes>"
      ]
     },
     "metadata": {
      "needs_background": "light"
     },
     "output_type": "display_data"
    }
   ],
   "source": [
    "plt.figure(figsize=(3.5,2.5))\n",
    "plt.scatter(features[:,1].detach().numpy(), labels.detach().numpy(), 1)\n",
    "plt.show()"
   ]
  },
  {
   "cell_type": "code",
   "execution_count": 6,
   "metadata": {},
   "outputs": [
    {
     "name": "stdout",
     "output_type": "stream",
     "text": [
      "tensor([[ 0.2211, -0.5452],\n",
      "        [ 2.0720,  0.2140],\n",
      "        [-0.6075, -0.9688],\n",
      "        [ 0.9149,  0.2326],\n",
      "        [-1.3253,  0.4224],\n",
      "        [ 1.0592, -0.7761],\n",
      "        [-0.1127,  0.7857],\n",
      "        [-0.4938,  1.1387],\n",
      "        [-1.1566, -0.1983],\n",
      "        [-0.8597, -0.7508]]) \n",
      " tensor([[ 6.4911],\n",
      "        [ 7.6255],\n",
      "        [ 6.2852],\n",
      "        [ 5.2561],\n",
      "        [ 0.1041],\n",
      "        [ 8.9574],\n",
      "        [ 1.3164],\n",
      "        [-0.6679],\n",
      "        [ 2.5575],\n",
      "        [ 5.0334]])\n"
     ]
    }
   ],
   "source": [
    "def data_iter(batch_size, features, labels):\n",
    "    num_samples = len(features)\n",
    "    indices = list(range(num_samples))\n",
    "    random.shuffle(indices)\n",
    "\n",
    "    for i in range(0,num_samples,batch_size):\n",
    "        batch_indices = torch.tensor(indices[i:min(i+batch_size, num_samples)])\n",
    "        yield features[batch_indices], labels[batch_indices]\n",
    "\n",
    "batch_size = 10\n",
    "for X,y in data_iter(batch_size,features,labels):\n",
    "    print(X,'\\n', y)\n",
    "    break"
   ]
  },
  {
   "cell_type": "code",
   "execution_count": 7,
   "metadata": {},
   "outputs": [
    {
     "data": {
      "text/plain": [
       "torch.Size([2])"
      ]
     },
     "execution_count": 7,
     "metadata": {},
     "output_type": "execute_result"
    }
   ],
   "source": [
    "true_w.shape"
   ]
  },
  {
   "cell_type": "code",
   "execution_count": 8,
   "metadata": {},
   "outputs": [
    {
     "data": {
      "text/plain": [
       "tensor([0.], requires_grad=True)"
      ]
     },
     "execution_count": 8,
     "metadata": {},
     "output_type": "execute_result"
    }
   ],
   "source": [
    "w = torch.normal(0,0.01,(2,1))\n",
    "w.requires_grad_(True)\n",
    "b = torch.zeros(1)\n",
    "b.requires_grad_(True)"
   ]
  },
  {
   "cell_type": "code",
   "execution_count": 9,
   "metadata": {},
   "outputs": [],
   "source": [
    "def linearregression(X,w,b):\n",
    "    return torch.matmul(X,w) +b"
   ]
  },
  {
   "cell_type": "code",
   "execution_count": 10,
   "metadata": {},
   "outputs": [],
   "source": [
    "def squared_loss(y_hat, y):\n",
    "    return (y_hat - y.reshape(y_hat.shape))**2/2"
   ]
  },
  {
   "cell_type": "code",
   "execution_count": 13,
   "metadata": {},
   "outputs": [],
   "source": [
    "def sgd(pramas, lr, batch_size):\n",
    "    with torch.no_grad():\n",
    "        for param in pramas:\n",
    "            param -= lr * param.grad / batch_size\n",
    "            param.grad.zero_()"
   ]
  },
  {
   "cell_type": "code",
   "execution_count": 15,
   "metadata": {},
   "outputs": [
    {
     "name": "stdout",
     "output_type": "stream",
     "text": [
      "epoch: 1 , loss 0.000048\n",
      "epoch: 2 , loss 0.000049\n",
      "epoch: 3 , loss 0.000048\n",
      "epoch: 4 , loss 0.000048\n",
      "epoch: 5 , loss 0.000048\n",
      "epoch: 6 , loss 0.000048\n",
      "epoch: 7 , loss 0.000048\n",
      "epoch: 8 , loss 0.000048\n",
      "epoch: 9 , loss 0.000048\n",
      "epoch: 10 , loss 0.000048\n"
     ]
    }
   ],
   "source": [
    "lr = 0.03\n",
    "num_epochs = 10\n",
    "net = linearregression\n",
    "loss = squared_loss\n",
    "\n",
    "for i in range(num_epochs):\n",
    "    for X,y in data_iter(batch_size,features,labels):\n",
    "        l = loss(net(X,w,b), y)\n",
    "        l.sum().backward()\n",
    "        sgd([w,b], lr, batch_size)\n",
    "    train_loss = loss(net(features,w,b), labels)\n",
    "    print(f'epoch: {i+1} , loss {float(train_loss.mean()):f}')"
   ]
  },
  {
   "cell_type": "code",
   "execution_count": 16,
   "metadata": {},
   "outputs": [
    {
     "name": "stdout",
     "output_type": "stream",
     "text": [
      "w's prediction error tensor([0.0002, 0.0005], grad_fn=<SubBackward0>)\n",
      "b's prediction error tensor([0.0003], grad_fn=<RsubBackward1>)\n"
     ]
    }
   ],
   "source": [
    "print(f'w\\'s prediction error {true_w - w.reshape(true_w.shape)}')\n",
    "print(f'b\\'s prediction error {true_b - b}')"
   ]
  },
  {
   "cell_type": "code",
   "execution_count": 18,
   "metadata": {},
   "outputs": [],
   "source": [
    "from torch.utils import data"
   ]
  },
  {
   "cell_type": "code",
   "execution_count": 19,
   "metadata": {},
   "outputs": [
    {
     "data": {
      "text/plain": [
       "[tensor([[ 0.2805, -0.9471],\n",
       "         [ 0.0268,  0.1752],\n",
       "         [-0.3353,  0.7053],\n",
       "         [ 0.1637, -0.6696],\n",
       "         [-0.7478, -0.4215],\n",
       "         [-0.4160,  0.3069],\n",
       "         [-1.9674,  0.9445],\n",
       "         [-1.6611,  1.2633],\n",
       "         [ 0.0921,  0.3659],\n",
       "         [-0.7217, -1.3699]]),\n",
       " tensor([[ 7.9818],\n",
       "         [ 3.6450],\n",
       "         [ 1.1262],\n",
       "         [ 6.8039],\n",
       "         [ 4.1400],\n",
       "         [ 2.3228],\n",
       "         [-2.9402],\n",
       "         [-3.4093],\n",
       "         [ 3.1238],\n",
       "         [ 7.4008]])]"
      ]
     },
     "execution_count": 19,
     "metadata": {},
     "output_type": "execute_result"
    }
   ],
   "source": [
    "def load_array(data_arrays, batch_size, is_train=True):\n",
    "    dataset = data.TensorDataset(*data_arrays)\n",
    "    return data.DataLoader(dataset,batch_size,shuffle=is_train)\n",
    "\n",
    "batch_size = 10\n",
    "data_iter = load_array((features,labels), batch_size)\n",
    "\n",
    "next(iter(data_iter))"
   ]
  },
  {
   "cell_type": "code",
   "execution_count": 20,
   "metadata": {},
   "outputs": [],
   "source": [
    "from torch import nn\n",
    "net = nn.Sequential(nn.Linear(2,1))"
   ]
  },
  {
   "cell_type": "code",
   "execution_count": 22,
   "metadata": {},
   "outputs": [
    {
     "data": {
      "text/plain": [
       "tensor([0.])"
      ]
     },
     "execution_count": 22,
     "metadata": {},
     "output_type": "execute_result"
    }
   ],
   "source": [
    "net[0].weight.data.normal_(0,0.01)\n",
    "net[0].bias.data.fill_(0)"
   ]
  },
  {
   "cell_type": "code",
   "execution_count": 28,
   "metadata": {},
   "outputs": [],
   "source": [
    "loss = nn.MSELoss()"
   ]
  },
  {
   "cell_type": "code",
   "execution_count": 32,
   "metadata": {},
   "outputs": [],
   "source": [
    "trainer = torch.optim.SGD(net.parameters(), lr=0.003)"
   ]
  },
  {
   "cell_type": "code",
   "execution_count": 33,
   "metadata": {},
   "outputs": [
    {
     "name": "stdout",
     "output_type": "stream",
     "text": [
      "epoch 1, loss 0.000097\n",
      "epoch 2, loss 0.000097\n",
      "epoch 3, loss 0.000097\n",
      "epoch 4, loss 0.000097\n",
      "epoch 5, loss 0.000097\n",
      "epoch 6, loss 0.000097\n",
      "epoch 7, loss 0.000097\n",
      "epoch 8, loss 0.000097\n",
      "epoch 9, loss 0.000097\n",
      "epoch 10, loss 0.000097\n"
     ]
    }
   ],
   "source": [
    "num_epochs = 10\n",
    "for e in range(num_epochs):\n",
    "    for X,y in data_iter:\n",
    "        l = loss(net(X),y)\n",
    "        trainer.zero_grad()\n",
    "        l.backward()\n",
    "        trainer.step()\n",
    "    l = loss(net(features), labels)\n",
    "    print(f'epoch {e+1}, loss {l:f}')"
   ]
  },
  {
   "cell_type": "code",
   "execution_count": null,
   "metadata": {},
   "outputs": [],
   "source": []
  }
 ],
 "metadata": {
  "interpreter": {
   "hash": "d91dcb46e2ecbf1f47bbc08c4b9b2e4d0f91f5c0ce30c2632493749b894e12cd"
  },
  "kernelspec": {
   "display_name": "Python 3 (ipykernel)",
   "language": "python",
   "name": "python3"
  },
  "language_info": {
   "codemirror_mode": {
    "name": "ipython",
    "version": 3
   },
   "file_extension": ".py",
   "mimetype": "text/x-python",
   "name": "python",
   "nbconvert_exporter": "python",
   "pygments_lexer": "ipython3",
   "version": "3.8.12"
  }
 },
 "nbformat": 4,
 "nbformat_minor": 2
}
