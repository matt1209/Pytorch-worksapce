{
 "cells": [
  {
   "cell_type": "code",
   "execution_count": 1,
   "metadata": {},
   "outputs": [],
   "source": [
    "%matplotlib inline\n",
    "import random\n",
    "import torch \n",
    "import matplotlib.pyplot as plt"
   ]
  },
  {
   "cell_type": "code",
   "execution_count": 2,
   "metadata": {},
   "outputs": [],
   "source": [
    "def synthetic_data(w, b, num_samples):\n",
    "    x = torch.normal(0,1,(num_samples, len(w)))\n",
    "    y = torch.matmul(x,w) + b\n",
    "    y_noise = torch.normal(0,0.01, y.shape)\n",
    "    y += y_noise\n",
    "    return x, y.reshape((-1,1))\n",
    "\n",
    "true_w = torch.tensor([2, -3.4])\n",
    "true_b = 4.2\n",
    "features, labels = synthetic_data(true_w, true_b, 1000)"
   ]
  },
  {
   "cell_type": "code",
   "execution_count": 3,
   "metadata": {},
   "outputs": [
    {
     "data": {
      "text/plain": [
       "(torch.Size([1000, 2]),\n",
       " torch.Size([1000, 1]),\n",
       " tensor([-0.7926,  0.6871]),\n",
       " tensor([0.2817]))"
      ]
     },
     "execution_count": 3,
     "metadata": {},
     "output_type": "execute_result"
    }
   ],
   "source": [
    "features.shape, labels.shape, features[0], labels[0]"
   ]
  },
  {
   "cell_type": "code",
   "execution_count": null,
   "metadata": {},
   "outputs": [],
   "source": [
    "plt.figure(figsize=(3.5,2.5))\n",
    "plt.scatter(features[:,1].detach().numpy(), labels.detach().numpy(), 1)\n",
    "plt.show()"
   ]
  },
  {
   "cell_type": "code",
   "execution_count": 6,
   "metadata": {},
   "outputs": [
    {
     "name": "stdout",
     "output_type": "stream",
     "text": [
      "tensor([[ 0.0642, -1.5794],\n",
      "        [-1.3857,  1.0881],\n",
      "        [ 0.0341, -0.6900],\n",
      "        [-0.3408,  0.4156],\n",
      "        [ 0.2345,  0.1356],\n",
      "        [-0.0985, -0.9084],\n",
      "        [-0.4920, -0.1643],\n",
      "        [-2.2755, -0.9697],\n",
      "        [-1.7469,  0.5658],\n",
      "        [ 0.0406,  0.3769]]) \n",
      " tensor([[ 9.7226],\n",
      "        [-2.2729],\n",
      "        [ 6.6327],\n",
      "        [ 2.1006],\n",
      "        [ 4.2095],\n",
      "        [ 7.0844],\n",
      "        [ 3.7904],\n",
      "        [ 2.9541],\n",
      "        [-1.1976],\n",
      "        [ 3.0066]])\n"
     ]
    }
   ],
   "source": [
    "def data_iter(batch_size, features, labels):\n",
    "    num_samples = len(features)\n",
    "    indices = list(range(num_samples))\n",
    "    random.shuffle(indices)\n",
    "\n",
    "    for i in range(0,num_samples,batch_size):\n",
    "        batch_indices = torch.tensor(indices[i:min(i+batch_size, num_samples)])\n",
    "        yield features[batch_indices], labels[batch_indices]\n",
    "\n",
    "batch_size = 10\n",
    "for X,y in data_iter(batch_size,features,labels):\n",
    "    print(X,'\\n', y)\n",
    "    break"
   ]
  },
  {
   "cell_type": "code",
   "execution_count": 7,
   "metadata": {},
   "outputs": [
    {
     "data": {
      "text/plain": [
       "torch.Size([2])"
      ]
     },
     "execution_count": 7,
     "metadata": {},
     "output_type": "execute_result"
    }
   ],
   "source": [
    "true_w.shape"
   ]
  },
  {
   "cell_type": "code",
   "execution_count": 10,
   "metadata": {},
   "outputs": [
    {
     "ename": "TypeError",
     "evalue": "normal() received an invalid combination of arguments - got (int, float, size=tuple, required_grad=bool), but expected one of:\n * (Tensor mean, Tensor std, torch.Generator generator, Tensor out)\n      didn't match because some of the keywords were incorrect: size, required_grad\n * (Tensor mean, float std, torch.Generator generator, Tensor out)\n      didn't match because some of the keywords were incorrect: size, required_grad\n * (float mean, Tensor std, torch.Generator generator, Tensor out)\n      didn't match because some of the keywords were incorrect: size, required_grad\n * (float mean, float std, tuple of ints size, torch.Generator generator, Tensor out, torch.dtype dtype, torch.layout layout, torch.device device, bool pin_memory, bool requires_grad)\n",
     "output_type": "error",
     "traceback": [
      "\u001b[1;31m---------------------------------------------------------------------------\u001b[0m",
      "\u001b[1;31mTypeError\u001b[0m                                 Traceback (most recent call last)",
      "\u001b[1;32m<ipython-input-10-9069d9e40e46>\u001b[0m in \u001b[0;36m<module>\u001b[1;34m\u001b[0m\n\u001b[1;32m----> 1\u001b[1;33m \u001b[0mw\u001b[0m \u001b[1;33m=\u001b[0m \u001b[0mtorch\u001b[0m\u001b[1;33m.\u001b[0m\u001b[0mnormal\u001b[0m\u001b[1;33m(\u001b[0m\u001b[1;36m0\u001b[0m\u001b[1;33m,\u001b[0m\u001b[1;36m0.01\u001b[0m\u001b[1;33m,\u001b[0m \u001b[0msize\u001b[0m\u001b[1;33m=\u001b[0m\u001b[1;33m(\u001b[0m\u001b[1;36m2\u001b[0m\u001b[1;33m,\u001b[0m\u001b[1;36m1\u001b[0m\u001b[1;33m)\u001b[0m\u001b[1;33m,\u001b[0m \u001b[0mrequired_grad\u001b[0m\u001b[1;33m=\u001b[0m\u001b[1;32mTrue\u001b[0m\u001b[1;33m)\u001b[0m\u001b[1;33m\u001b[0m\u001b[1;33m\u001b[0m\u001b[0m\n\u001b[0m\u001b[0;32m      2\u001b[0m \u001b[0mw\u001b[0m\u001b[1;33m.\u001b[0m\u001b[0mdetach\u001b[0m\u001b[1;33m(\u001b[0m\u001b[1;33m)\u001b[0m\u001b[1;33m.\u001b[0m\u001b[0mnumpy\u001b[0m\u001b[1;33m(\u001b[0m\u001b[1;33m)\u001b[0m\u001b[1;33m.\u001b[0m\u001b[0mshape\u001b[0m\u001b[1;33m\u001b[0m\u001b[1;33m\u001b[0m\u001b[0m\n",
      "\u001b[1;31mTypeError\u001b[0m: normal() received an invalid combination of arguments - got (int, float, size=tuple, required_grad=bool), but expected one of:\n * (Tensor mean, Tensor std, torch.Generator generator, Tensor out)\n      didn't match because some of the keywords were incorrect: size, required_grad\n * (Tensor mean, float std, torch.Generator generator, Tensor out)\n      didn't match because some of the keywords were incorrect: size, required_grad\n * (float mean, Tensor std, torch.Generator generator, Tensor out)\n      didn't match because some of the keywords were incorrect: size, required_grad\n * (float mean, float std, tuple of ints size, torch.Generator generator, Tensor out, torch.dtype dtype, torch.layout layout, torch.device device, bool pin_memory, bool requires_grad)\n"
     ]
    }
   ],
   "source": [
    "w = torch.normal(0,0.01, size=(2,1), required_grad=True)"
   ]
  },
  {
   "cell_type": "code",
   "execution_count": null,
   "metadata": {},
   "outputs": [],
   "source": []
  }
 ],
 "metadata": {
  "interpreter": {
   "hash": "d91dcb46e2ecbf1f47bbc08c4b9b2e4d0f91f5c0ce30c2632493749b894e12cd"
  },
  "kernelspec": {
   "display_name": "Python 3 (ipykernel)",
   "language": "python",
   "name": "python3"
  },
  "language_info": {
   "codemirror_mode": {
    "name": "ipython",
    "version": 3
   },
   "file_extension": ".py",
   "mimetype": "text/x-python",
   "name": "python",
   "nbconvert_exporter": "python",
   "pygments_lexer": "ipython3",
   "version": "3.7.11"
  }
 },
 "nbformat": 4,
 "nbformat_minor": 2
}
